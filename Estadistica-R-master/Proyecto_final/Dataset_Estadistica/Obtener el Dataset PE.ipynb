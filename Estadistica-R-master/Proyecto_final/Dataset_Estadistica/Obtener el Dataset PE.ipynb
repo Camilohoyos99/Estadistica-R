{
 "cells": [
  {
   "cell_type": "code",
   "execution_count": 3,
   "metadata": {},
   "outputs": [],
   "source": [
    "from __future__ import print_function\n",
    "\n",
    "import numpy as np\n",
    "import SimpleITK as sitk\n",
    "import six\n",
    "import matplotlib.pyplot as plt\n",
    "import os\n",
    "import glob\n",
    "from skimage import io\n",
    "\n",
    "import csv\n",
    "from radiomics import base, cShape, deprecated\n",
    "from radiomics import firstorder, getTestCase, glcm, glrlm, glszm, shape2D,imageoperations, shape\n",
    "\n",
    "import pandas as pd"
   ]
  },
  {
   "cell_type": "code",
   "execution_count": 4,
   "metadata": {},
   "outputs": [
    {
     "data": {
      "text/plain": [
       "'C:/Users/JUANK/Documents/GitHub/Estadistica-R/Proyecto_final/Dataset_Estadistica/segmentation_WBC\\\\Dataset_2'"
      ]
     },
     "execution_count": 4,
     "metadata": {},
     "output_type": "execute_result"
    }
   ],
   "source": [
    "#Lectura del directorio\n",
    "directorio =\"C:/Users/JUANK/Documents/GitHub/Estadistica-R/Proyecto_final/Dataset_Estadistica/segmentation_WBC\"\n",
    "directorio = os.path.join(directorio,'Dataset_2')\n",
    "directorio\n"
   ]
  },
  {
   "cell_type": "code",
   "execution_count": 5,
   "metadata": {},
   "outputs": [],
   "source": [
    "#aquí tengo los archivos del directorio\n",
    "archivos = os.listdir(directorio)\n",
    "archivos_comparar=list([os.path.splitext(x)[0] for x in archivos])\n",
    "archivos_comparar.sort()\n",
    "\n",
    "#archivos_comparar"
   ]
  },
  {
   "cell_type": "code",
   "execution_count": 6,
   "metadata": {},
   "outputs": [],
   "source": [
    "filename = \"C:/Users/prestamour/Downloads/segmentation_WBC\"\n",
    "filename = os.path.join(filename,\"Class labels of Dataset 2\" )\n",
    "\n",
    "#necesito el 2 y el 3\n",
    "\n",
    "indices_celulas=[]\n",
    "\n",
    "with open('ClassLabelsOfDataset2.csv') as csvFile:\n",
    "    reader = csv.reader(csvFile)\n",
    "    for row in reader:\n",
    "        if (row[1]== '2' or row[1]== '3'): \n",
    "            indices_celulas.append(int(row[0]))\n",
    "        \n",
    "csvFile.close()\n",
    "#indices_celulas\n"
   ]
  },
  {
   "cell_type": "code",
   "execution_count": 7,
   "metadata": {},
   "outputs": [],
   "source": [
    "# vamos a clasificar cuales son las celulas que nos sirven comparando archivos\n",
    "#con nuestra nueva indices celulas\n",
    "\n",
    "# archivos para trabajar\n",
    "archivos_final = []\n",
    "archivos_comparar=[int (x) for x in archivos_comparar ]\n",
    "\n",
    "for i in indices_celulas:\n",
    "\n",
    "    temp = archivos_comparar.index(i)\n",
    "    archivos_final.append(archivos[temp])\n",
    "    archivos_final.append(archivos[temp + 1])\n",
    "\n",
    "#archivos_final"
   ]
  },
  {
   "cell_type": "code",
   "execution_count": 8,
   "metadata": {},
   "outputs": [],
   "source": [
    "def cell_features (img,mask):\n",
    "    result = pd.DataFrame(pd.Series({})).T \n",
    "    for j in range(3):\n",
    "        #Escogiendo el color de la matriz\n",
    "        img_color = img[:,:,j]\n",
    "        img_final = sitk.GetImageFromArray(img_color)\n",
    "        for k in range(len(nuc_cito)):\n",
    "            #selección de nucleo o citoplasma\n",
    "            n_c= mask == nuc_cito[k]\n",
    "            n_c= 1*(n_c>0)\n",
    "            mask_final = sitk.GetImageFromArray(n_c)\n",
    "\n",
    "            #convertimos la imagen a 3D\n",
    "            image3D=sitk.JoinSeries(img_final)         \n",
    "            mask3D=sitk.JoinSeries(mask_final)\n",
    "            \n",
    "            #descriptores de primer orden \n",
    "            FOF= firstorder.RadiomicsFirstOrder(image3D,mask3D) #descriptores de primer orden por pyreadiomics\n",
    "            FOF.enableAllFeatures()\n",
    "            FOF.execute()\n",
    "            fr= pd.DataFrame(pd.Series(FOF.featureValues)).T\n",
    "            fr.columns = [s_nuc_cito[k]+'_' +x + '_'+ RGB[j] for x in fr.columns.to_list()]\n",
    "\n",
    "            #descriptores de forma en 2D\n",
    "            DSH = shape2D.RadiomicsShape2D(img_final, mask_final)\n",
    "            DSH.enableAllFeatures()\n",
    "            DSH.execute()\n",
    "            fr2 = pd.DataFrame(pd.Series(DSH.featureValues)).T\n",
    "            fr2.columns = [s_nuc_cito[k]+'_' +x + '_'+ RGB[j] for x in fr2.columns.to_list()]\n",
    "\n",
    "            #concatenación\n",
    "            result = pd.concat([result,fr],1)\n",
    "            result = pd.concat([result,fr2],1)\n",
    "            \n",
    "            \n",
    "            \n",
    "    return result"
   ]
  },
  {
   "cell_type": "code",
   "execution_count": 9,
   "metadata": {},
   "outputs": [
    {
     "name": "stderr",
     "output_type": "stream",
     "text": [
      "C:\\Anaconda\\lib\\site-packages\\ipykernel_launcher.py:21: FutureWarning: Sorting because non-concatenation axis is not aligned. A future version\n",
      "of pandas will change to not sort by default.\n",
      "\n",
      "To accept the future behavior, pass 'sort=False'.\n",
      "\n",
      "To retain the current behavior and silence the warning, pass 'sort=True'.\n",
      "\n"
     ]
    }
   ],
   "source": [
    "#MAIN\n",
    "#Definimos unas variables globales\n",
    "indice_a= 0\n",
    "RGB= ['R', 'G', 'B']\n",
    "save = []\n",
    "nuc_cito= [255,128]\n",
    "s_nuc_cito=['nuc','cito']\n",
    "resultados = 0\n",
    "result_final = pd.DataFrame(pd.Series({})).T\n",
    "#recorremos todas las imágenes\n",
    "for i in archivos_final:\n",
    "   \n",
    "    if indice_a %2 == 0 and indice_a < len(archivos_final):\n",
    "       \n",
    "        img = io.imread(os.path.join(directorio, archivos_final[indice_a]) )\n",
    "        mask = io.imread(os.path.join(directorio, archivos_final[indice_a + 1]))\n",
    "        \n",
    "        result = cell_features(img,mask)\n",
    "        index = i[:-4]\n",
    "        result.index =[index]\n",
    "        result_final =  pd.concat([result_final,result])\n",
    "    indice_a +=1"
   ]
  },
  {
   "cell_type": "code",
   "execution_count": 11,
   "metadata": {},
   "outputs": [],
   "source": [
    "#list((result_final.columns).T)\n",
    "#result_final"
   ]
  }
 ],
 "metadata": {
  "kernelspec": {
   "display_name": "Python 3",
   "language": "python",
   "name": "python3"
  },
  "language_info": {
   "codemirror_mode": {
    "name": "ipython",
    "version": 3
   },
   "file_extension": ".py",
   "mimetype": "text/x-python",
   "name": "python",
   "nbconvert_exporter": "python",
   "pygments_lexer": "ipython3",
   "version": "3.7.3"
  }
 },
 "nbformat": 4,
 "nbformat_minor": 2
}
